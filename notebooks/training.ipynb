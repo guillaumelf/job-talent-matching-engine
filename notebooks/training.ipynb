{
 "cells": [
  {
   "cell_type": "code",
   "execution_count": 1,
   "metadata": {},
   "outputs": [],
   "source": [
    "import os\n",
    "import sys\n",
    "\n",
    "# Change this value to the path of the reco-engine repository on your machine\n",
    "REPO_FOLDER = \"perso/job-talent-matching-engine\"\n",
    "sys.path.append(os.path.join(os.path.expanduser(\"~\"), REPO_FOLDER))"
   ]
  },
  {
   "cell_type": "code",
   "execution_count": 2,
   "metadata": {},
   "outputs": [],
   "source": [
    "import joblib\n",
    "import json\n",
    "import matplotlib.pyplot as plt\n",
    "import pandas as pd\n",
    "import seaborn as sns\n",
    "\n",
    "from sklearn.model_selection import train_test_split\n",
    "from sklearn.ensemble import RandomForestClassifier\n",
    "from sklearn.metrics import accuracy_score, confusion_matrix\n",
    "\n",
    "from src import constants\n",
    "from src.utils import features_extraction"
   ]
  },
  {
   "cell_type": "markdown",
   "metadata": {},
   "source": [
    "# Data processing"
   ]
  },
  {
   "cell_type": "code",
   "execution_count": 3,
   "metadata": {},
   "outputs": [],
   "source": [
    "with open(constants.DATA_FILE_PATH, \"r\") as data_file:\n",
    "    batch = json.load(data_file)"
   ]
  },
  {
   "cell_type": "markdown",
   "metadata": {},
   "source": [
    "## Dataset computation"
   ]
  },
  {
   "cell_type": "code",
   "execution_count": 4,
   "metadata": {},
   "outputs": [],
   "source": [
    "# Instantiate the FeaturesExtractor class\n",
    "features_extractor = features_extraction.FeaturesExtractor()\n",
    "\n",
    "# Compute the dataset\n",
    "dataset = features_extractor.get_dataset(batch)"
   ]
  },
  {
   "cell_type": "code",
   "execution_count": 5,
   "metadata": {},
   "outputs": [
    {
     "data": {
      "text/html": [
       "<div>\n",
       "<style scoped>\n",
       "    .dataframe tbody tr th:only-of-type {\n",
       "        vertical-align: middle;\n",
       "    }\n",
       "\n",
       "    .dataframe tbody tr th {\n",
       "        vertical-align: top;\n",
       "    }\n",
       "\n",
       "    .dataframe thead th {\n",
       "        text-align: right;\n",
       "    }\n",
       "</style>\n",
       "<table border=\"1\" class=\"dataframe\">\n",
       "  <thead>\n",
       "    <tr style=\"text-align: right;\">\n",
       "      <th></th>\n",
       "      <th>must_have_languages_overlap</th>\n",
       "      <th>optional_languages_spoken</th>\n",
       "      <th>job_roles_overlap</th>\n",
       "      <th>job_roles_number</th>\n",
       "      <th>talent_has_seniority_requirement</th>\n",
       "      <th>talent_has_min_degree_requirement</th>\n",
       "      <th>salary_expectation_matches_offer</th>\n",
       "      <th>salary_expectation_gap</th>\n",
       "      <th>label</th>\n",
       "    </tr>\n",
       "  </thead>\n",
       "  <tbody>\n",
       "    <tr>\n",
       "      <th>0</th>\n",
       "      <td>1.0</td>\n",
       "      <td>2</td>\n",
       "      <td>1.0</td>\n",
       "      <td>1</td>\n",
       "      <td>True</td>\n",
       "      <td>True</td>\n",
       "      <td>True</td>\n",
       "      <td>22000</td>\n",
       "      <td>True</td>\n",
       "    </tr>\n",
       "    <tr>\n",
       "      <th>1</th>\n",
       "      <td>1.0</td>\n",
       "      <td>2</td>\n",
       "      <td>1.0</td>\n",
       "      <td>1</td>\n",
       "      <td>True</td>\n",
       "      <td>True</td>\n",
       "      <td>True</td>\n",
       "      <td>26000</td>\n",
       "      <td>True</td>\n",
       "    </tr>\n",
       "    <tr>\n",
       "      <th>2</th>\n",
       "      <td>1.0</td>\n",
       "      <td>2</td>\n",
       "      <td>1.0</td>\n",
       "      <td>1</td>\n",
       "      <td>True</td>\n",
       "      <td>True</td>\n",
       "      <td>True</td>\n",
       "      <td>25000</td>\n",
       "      <td>True</td>\n",
       "    </tr>\n",
       "    <tr>\n",
       "      <th>3</th>\n",
       "      <td>1.0</td>\n",
       "      <td>0</td>\n",
       "      <td>1.0</td>\n",
       "      <td>1</td>\n",
       "      <td>True</td>\n",
       "      <td>True</td>\n",
       "      <td>True</td>\n",
       "      <td>24000</td>\n",
       "      <td>True</td>\n",
       "    </tr>\n",
       "    <tr>\n",
       "      <th>4</th>\n",
       "      <td>1.0</td>\n",
       "      <td>1</td>\n",
       "      <td>1.0</td>\n",
       "      <td>2</td>\n",
       "      <td>True</td>\n",
       "      <td>True</td>\n",
       "      <td>True</td>\n",
       "      <td>5000</td>\n",
       "      <td>True</td>\n",
       "    </tr>\n",
       "  </tbody>\n",
       "</table>\n",
       "</div>"
      ],
      "text/plain": [
       "   must_have_languages_overlap  optional_languages_spoken  job_roles_overlap  \\\n",
       "0                          1.0                          2                1.0   \n",
       "1                          1.0                          2                1.0   \n",
       "2                          1.0                          2                1.0   \n",
       "3                          1.0                          0                1.0   \n",
       "4                          1.0                          1                1.0   \n",
       "\n",
       "   job_roles_number  talent_has_seniority_requirement  \\\n",
       "0                 1                              True   \n",
       "1                 1                              True   \n",
       "2                 1                              True   \n",
       "3                 1                              True   \n",
       "4                 2                              True   \n",
       "\n",
       "   talent_has_min_degree_requirement  salary_expectation_matches_offer  \\\n",
       "0                               True                              True   \n",
       "1                               True                              True   \n",
       "2                               True                              True   \n",
       "3                               True                              True   \n",
       "4                               True                              True   \n",
       "\n",
       "   salary_expectation_gap  label  \n",
       "0                   22000   True  \n",
       "1                   26000   True  \n",
       "2                   25000   True  \n",
       "3                   24000   True  \n",
       "4                    5000   True  "
      ]
     },
     "execution_count": 5,
     "metadata": {},
     "output_type": "execute_result"
    }
   ],
   "source": [
    "dataset.head()"
   ]
  },
  {
   "cell_type": "markdown",
   "metadata": {},
   "source": [
    "## Correlogram"
   ]
  },
  {
   "cell_type": "code",
   "execution_count": 6,
   "metadata": {},
   "outputs": [
    {
     "data": {
      "text/html": [
       "<style type=\"text/css\">\n",
       "#T_94602_row0_col0 {\n",
       "  background-color: #f1ccb8;\n",
       "  color: #000000;\n",
       "}\n",
       "#T_94602_row1_col0, #T_94602_row3_col0 {\n",
       "  background-color: #3b4cc0;\n",
       "  color: #f1f1f1;\n",
       "}\n",
       "#T_94602_row2_col0 {\n",
       "  background-color: #f4c5ad;\n",
       "  color: #000000;\n",
       "}\n",
       "#T_94602_row4_col0 {\n",
       "  background-color: #f6bda2;\n",
       "  color: #000000;\n",
       "}\n",
       "#T_94602_row5_col0 {\n",
       "  background-color: #f7bca1;\n",
       "  color: #000000;\n",
       "}\n",
       "#T_94602_row6_col0 {\n",
       "  background-color: #dbdcde;\n",
       "  color: #000000;\n",
       "}\n",
       "#T_94602_row7_col0 {\n",
       "  background-color: #e7d7ce;\n",
       "  color: #000000;\n",
       "}\n",
       "#T_94602_row8_col0 {\n",
       "  background-color: #b40426;\n",
       "  color: #f1f1f1;\n",
       "}\n",
       "</style>\n",
       "<table id=\"T_94602\">\n",
       "  <thead>\n",
       "    <tr>\n",
       "      <th class=\"blank level0\" >&nbsp;</th>\n",
       "      <th id=\"T_94602_level0_col0\" class=\"col_heading level0 col0\" >label</th>\n",
       "    </tr>\n",
       "  </thead>\n",
       "  <tbody>\n",
       "    <tr>\n",
       "      <th id=\"T_94602_level0_row0\" class=\"row_heading level0 row0\" >must_have_languages_overlap</th>\n",
       "      <td id=\"T_94602_row0_col0\" class=\"data row0 col0\" >0.587779</td>\n",
       "    </tr>\n",
       "    <tr>\n",
       "      <th id=\"T_94602_level0_row1\" class=\"row_heading level0 row1\" >optional_languages_spoken</th>\n",
       "      <td id=\"T_94602_row1_col0\" class=\"data row1 col0\" >-0.020795</td>\n",
       "    </tr>\n",
       "    <tr>\n",
       "      <th id=\"T_94602_level0_row2\" class=\"row_heading level0 row2\" >job_roles_overlap</th>\n",
       "      <td id=\"T_94602_row2_col0\" class=\"data row2 col0\" >0.613704</td>\n",
       "    </tr>\n",
       "    <tr>\n",
       "      <th id=\"T_94602_level0_row3\" class=\"row_heading level0 row3\" >job_roles_number</th>\n",
       "      <td id=\"T_94602_row3_col0\" class=\"data row3 col0\" >-0.022263</td>\n",
       "    </tr>\n",
       "    <tr>\n",
       "      <th id=\"T_94602_level0_row4\" class=\"row_heading level0 row4\" >talent_has_seniority_requirement</th>\n",
       "      <td id=\"T_94602_row4_col0\" class=\"data row4 col0\" >0.640654</td>\n",
       "    </tr>\n",
       "    <tr>\n",
       "      <th id=\"T_94602_level0_row5\" class=\"row_heading level0 row5\" >talent_has_min_degree_requirement</th>\n",
       "      <td id=\"T_94602_row5_col0\" class=\"data row5 col0\" >0.647647</td>\n",
       "    </tr>\n",
       "    <tr>\n",
       "      <th id=\"T_94602_level0_row6\" class=\"row_heading level0 row6\" >salary_expectation_matches_offer</th>\n",
       "      <td id=\"T_94602_row6_col0\" class=\"data row6 col0\" >0.481447</td>\n",
       "    </tr>\n",
       "    <tr>\n",
       "      <th id=\"T_94602_level0_row7\" class=\"row_heading level0 row7\" >salary_expectation_gap</th>\n",
       "      <td id=\"T_94602_row7_col0\" class=\"data row7 col0\" >0.529170</td>\n",
       "    </tr>\n",
       "    <tr>\n",
       "      <th id=\"T_94602_level0_row8\" class=\"row_heading level0 row8\" >label</th>\n",
       "      <td id=\"T_94602_row8_col0\" class=\"data row8 col0\" >1.000000</td>\n",
       "    </tr>\n",
       "  </tbody>\n",
       "</table>\n"
      ],
      "text/plain": [
       "<pandas.io.formats.style.Styler at 0x7f03e52df050>"
      ]
     },
     "execution_count": 6,
     "metadata": {},
     "output_type": "execute_result"
    }
   ],
   "source": [
    "dataset.corr()[[\"label\"]].style.background_gradient(cmap=\"coolwarm\")"
   ]
  },
  {
   "cell_type": "markdown",
   "metadata": {},
   "source": [
    "The `job_roles_number` & `optional_languages_spoken` are barely correlated to the target variable, we may not expect them to have a big predictive power compared to other features"
   ]
  },
  {
   "cell_type": "code",
   "execution_count": 7,
   "metadata": {},
   "outputs": [
    {
     "data": {
      "text/plain": [
       "label\n",
       "True     1000\n",
       "False    1000\n",
       "Name: count, dtype: int64"
      ]
     },
     "execution_count": 7,
     "metadata": {},
     "output_type": "execute_result"
    }
   ],
   "source": [
    "dataset[\"label\"].value_counts()"
   ]
  },
  {
   "cell_type": "markdown",
   "metadata": {},
   "source": [
    "The labels in the dataset are completely balanced so we can choose the **accuracy** as our evaluation metric, otherwise the **F1 Score** would have been a wiser choice"
   ]
  },
  {
   "cell_type": "markdown",
   "metadata": {},
   "source": [
    "## Train"
   ]
  },
  {
   "cell_type": "markdown",
   "metadata": {},
   "source": [
    "In this section we will choose a **Tree-based** model as we have many boolean/categorical features, a model like a **Random Forest** seems adapted to find the right combination and thresholds between our features to predict whether this the talent and the job are going to be a great match or not. Also a Random Forest algorithm provides more stability than a simple decision tree that can have a lot of variance alone. Combining several trees using the **bagging method** implemented in the Random Forest algorithm allows us to reduce this variance, hence a lower **risk** and a better performance in the end."
   ]
  },
  {
   "cell_type": "code",
   "execution_count": 8,
   "metadata": {},
   "outputs": [
    {
     "name": "stdout",
     "output_type": "stream",
     "text": [
      "Accuracy: 0.9975\n"
     ]
    }
   ],
   "source": [
    "X = dataset.drop(columns=[\"label\"]).values\n",
    "y = dataset[\"label\"].values\n",
    "\n",
    "# Train-test split : we train on 80% of the data available and evaluate on the remaining 20%\n",
    "X_train, X_test, y_train, y_test = train_test_split(\n",
    "    X, y, test_size=0.2, random_state=42\n",
    ")\n",
    "\n",
    "# Initialize & train the Random Forest model\n",
    "model = RandomForestClassifier(n_estimators=100, random_state=42)\n",
    "model.fit(X_train, y_train)\n",
    "\n",
    "# Predict labels for the test set\n",
    "y_pred = model.predict(X_test)\n",
    "\n",
    "# Evaluate model performances on the test set\n",
    "accuracy = accuracy_score(y_test, y_pred)\n",
    "print(f\"Accuracy: {accuracy}\")"
   ]
  },
  {
   "cell_type": "code",
   "execution_count": 9,
   "metadata": {},
   "outputs": [
    {
     "data": {
      "image/png": "[encoded data removed]",
      "text/plain": [
       "<Figure size 800x600 with 2 Axes>"
      ]
     },
     "metadata": {},
     "output_type": "display_data"
    }
   ],
   "source": [
    "conf_matrix = confusion_matrix(y_test, y_pred)\n",
    "\n",
    "plt.figure(figsize=(8, 6))\n",
    "sns.heatmap(conf_matrix, annot=True, fmt=\"d\", cmap=\"Blues\")\n",
    "plt.xlabel(\"Predicted labels\")\n",
    "plt.ylabel(\"True labels\")\n",
    "plt.title(\"Confusion Matrix\")\n",
    "plt.show()"
   ]
  },
  {
   "cell_type": "markdown",
   "metadata": {},
   "source": [
    "The model has a pretty good performance, having only 1 misclassified sample (a false negative). The model is able to predict the label of the samples with an accuracy of 99.75%."
   ]
  },
  {
   "cell_type": "markdown",
   "metadata": {},
   "source": [
    "### Feature importance"
   ]
  },
  {
   "cell_type": "code",
   "execution_count": 10,
   "metadata": {},
   "outputs": [
    {
     "data": {
      "image/png": "[encoded data removed]",
      "text/plain": [
       "<Figure size 1000x600 with 1 Axes>"
      ]
     },
     "metadata": {},
     "output_type": "display_data"
    }
   ],
   "source": [
    "feature_importance_df = pd.DataFrame(\n",
    "    model.feature_importances_,\n",
    "    index=[col for col in dataset.columns if col != \"label\"],\n",
    "    columns=[\"Importance\"],\n",
    ")\n",
    "feature_importance_df = feature_importance_df.sort_values(\n",
    "    by=\"Importance\", ascending=False\n",
    ")\n",
    "\n",
    "plt.figure(figsize=(10, 6))\n",
    "plt.barh(\n",
    "    feature_importance_df.index, feature_importance_df[\"Importance\"], color=\"skyblue\"\n",
    ")\n",
    "plt.xlabel(\"Importance\")\n",
    "plt.ylabel(\"Features\")\n",
    "plt.title(\"Feature Importance\")\n",
    "plt.gca().invert_yaxis()\n",
    "plt.show()"
   ]
  },
  {
   "cell_type": "markdown",
   "metadata": {},
   "source": [
    "As expected from what we saw with the correlogram : the `job_roles_number` and `optional_languages_spoken` don't play an important part in the predictive task. Also the `salary_expectation_matches_offer` feature doesn't seem really important, as it is highly correlated to `salary_expectation_gap` feature that is the second most important feature according to this graph. We could remove these 3 features, but as the model already performs very well there is not much to gain from doing it, as it is not really time-consuming in the feature engineering phase either"
   ]
  },
  {
   "cell_type": "markdown",
   "metadata": {},
   "source": [
    "### Save model to disk"
   ]
  },
  {
   "cell_type": "code",
   "execution_count": 11,
   "metadata": {},
   "outputs": [
    {
     "data": {
      "text/plain": [
       "['/home/guillaume/perso/job-talent-matching/data/model.joblib']"
      ]
     },
     "execution_count": 11,
     "metadata": {},
     "output_type": "execute_result"
    }
   ],
   "source": [
    "joblib.dump(model, constants.MODEL_FILE_PATH)"
   ]
  }
 ],
 "metadata": {
  "kernelspec": {
   "display_name": "py311-reco-engine",
   "language": "python",
   "name": "python3"
  },
  "language_info": {
   "codemirror_mode": {
    "name": "ipython",
    "version": 3
   },
   "file_extension": ".py",
   "mimetype": "text/x-python",
   "name": "python",
   "nbconvert_exporter": "python",
   "pygments_lexer": "ipython3",
   "version": "3.11.9"
  }
 },
 "nbformat": 4,
 "nbformat_minor": 2
}
