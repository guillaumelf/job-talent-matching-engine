{
 "cells": [
  {
   "cell_type": "code",
   "execution_count": 1,
   "metadata": {},
   "outputs": [],
   "source": [
    "import json\n",
    "\n",
    "from collections import Counter\n",
    "\n",
    "import pandas as pd"
   ]
  },
  {
   "cell_type": "markdown",
   "metadata": {},
   "source": [
    "# Data exploration"
   ]
  },
  {
   "cell_type": "code",
   "execution_count": 2,
   "metadata": {},
   "outputs": [],
   "source": [
    "DATA_FILE_PATH: str = \"../data/data.json\""
   ]
  },
  {
   "cell_type": "code",
   "execution_count": 3,
   "metadata": {},
   "outputs": [],
   "source": [
    "with open(DATA_FILE_PATH, \"r\") as file:\n",
    "    data = json.load(file)"
   ]
  },
  {
   "cell_type": "code",
   "execution_count": 4,
   "metadata": {},
   "outputs": [
    {
     "data": {
      "text/plain": [
       "list"
      ]
     },
     "execution_count": 4,
     "metadata": {},
     "output_type": "execute_result"
    }
   ],
   "source": [
    "type(data)"
   ]
  },
  {
   "cell_type": "code",
   "execution_count": 5,
   "metadata": {},
   "outputs": [
    {
     "data": {
      "text/plain": [
       "{'talent': {'languages': [{'rating': 'C2', 'title': 'German'},\n",
       "   {'rating': 'C2', 'title': 'English'},\n",
       "   {'rating': 'B2', 'title': 'French'},\n",
       "   {'rating': 'A2', 'title': 'Turkish'}],\n",
       "  'job_roles': ['frontend-developer',\n",
       "   'backend-developer',\n",
       "   'full-stack-developer',\n",
       "   'java-developer',\n",
       "   'mobile-developer'],\n",
       "  'seniority': 'junior',\n",
       "  'salary_expectation': 48000,\n",
       "  'degree': 'bachelor'},\n",
       " 'job': {'languages': [{'title': 'German', 'rating': 'C1', 'must_have': True},\n",
       "   {'title': 'English', 'rating': 'B2', 'must_have': True}],\n",
       "  'job_roles': ['frontend-developer'],\n",
       "  'seniorities': ['junior', 'midlevel'],\n",
       "  'max_salary': 70000,\n",
       "  'min_degree': 'none'},\n",
       " 'label': True}"
      ]
     },
     "execution_count": 5,
     "metadata": {},
     "output_type": "execute_result"
    }
   ],
   "source": [
    "example = data[0]\n",
    "example"
   ]
  },
  {
   "cell_type": "code",
   "execution_count": 6,
   "metadata": {},
   "outputs": [
    {
     "name": "stdout",
     "output_type": "stream",
     "text": [
      "- talent: {'languages': [{'rating': 'C2', 'title': 'German'}, {'rating': 'C2', 'title': 'English'}, {'rating': 'B2', 'title': 'French'}, {'rating': 'A2', 'title': 'Turkish'}], 'job_roles': ['frontend-developer', 'backend-developer', 'full-stack-developer', 'java-developer', 'mobile-developer'], 'seniority': 'junior', 'salary_expectation': 48000, 'degree': 'bachelor'}\n",
      "- job: {'languages': [{'title': 'German', 'rating': 'C1', 'must_have': True}, {'title': 'English', 'rating': 'B2', 'must_have': True}], 'job_roles': ['frontend-developer'], 'seniorities': ['junior', 'midlevel'], 'max_salary': 70000, 'min_degree': 'none'}\n",
      "- label: True\n"
     ]
    }
   ],
   "source": [
    "for key, value in example.items():\n",
    "    print(f\"- {key}: {value}\")"
   ]
  },
  {
   "cell_type": "markdown",
   "metadata": {},
   "source": [
    "## Job data"
   ]
  },
  {
   "cell_type": "markdown",
   "metadata": {},
   "source": [
    "### Languages overview"
   ]
  },
  {
   "cell_type": "code",
   "execution_count": 7,
   "metadata": {},
   "outputs": [],
   "source": [
    "title_languages = []\n",
    "rating_languages = []\n",
    "must_have_languages = []\n",
    "\n",
    "for batch in data:\n",
    "    job_languages = batch[\"job\"][\"languages\"]\n",
    "    for language_dict in job_languages:\n",
    "        title_languages.append(language_dict.get(\"title\", \"no title\"))\n",
    "        rating_languages.append(language_dict.get(\"rating\", \"no rating\"))\n",
    "        must_have_languages.append(language_dict.get(\"must_have\", \"no must_have\"))"
   ]
  },
  {
   "cell_type": "code",
   "execution_count": 8,
   "metadata": {},
   "outputs": [
    {
     "data": {
      "text/plain": [
       "Counter({'German': 2000, 'English': 1318})"
      ]
     },
     "execution_count": 8,
     "metadata": {},
     "output_type": "execute_result"
    }
   ],
   "source": [
    "Counter(title_languages)"
   ]
  },
  {
   "cell_type": "code",
   "execution_count": 9,
   "metadata": {},
   "outputs": [
    {
     "data": {
      "text/plain": [
       "Counter({'C1': 1765, 'B2': 888, 'C2': 424, 'B1': 241})"
      ]
     },
     "execution_count": 9,
     "metadata": {},
     "output_type": "execute_result"
    }
   ],
   "source": [
    "Counter(rating_languages)"
   ]
  },
  {
   "cell_type": "code",
   "execution_count": 10,
   "metadata": {},
   "outputs": [
    {
     "data": {
      "text/plain": [
       "Counter({True: 2806, False: 512})"
      ]
     },
     "execution_count": 10,
     "metadata": {},
     "output_type": "execute_result"
    }
   ],
   "source": [
    "Counter(must_have_languages)"
   ]
  },
  {
   "cell_type": "markdown",
   "metadata": {},
   "source": [
    "Not every language is required in a job ad, we will need to differentiate that in the features we will create"
   ]
  },
  {
   "cell_type": "markdown",
   "metadata": {},
   "source": [
    "### Minimum degree overview"
   ]
  },
  {
   "cell_type": "code",
   "execution_count": 11,
   "metadata": {},
   "outputs": [
    {
     "data": {
      "text/plain": [
       "Counter({'none': 899,\n",
       "         'bachelor': 467,\n",
       "         'master': 245,\n",
       "         'apprenticeship': 195,\n",
       "         'doctorate': 194})"
      ]
     },
     "execution_count": 11,
     "metadata": {},
     "output_type": "execute_result"
    }
   ],
   "source": [
    "min_degrees = []\n",
    "\n",
    "for batch in data:\n",
    "    min_degrees.append(batch[\"job\"][\"min_degree\"])\n",
    "\n",
    "Counter(min_degrees)"
   ]
  },
  {
   "cell_type": "markdown",
   "metadata": {},
   "source": [
    "### Job roles"
   ]
  },
  {
   "cell_type": "code",
   "execution_count": 12,
   "metadata": {},
   "outputs": [
    {
     "data": {
      "text/plain": [
       "Counter({1: 1303, 2: 538, 3: 137, 5: 22})"
      ]
     },
     "execution_count": 12,
     "metadata": {},
     "output_type": "execute_result"
    }
   ],
   "source": [
    "job_roles_number = []\n",
    "\n",
    "for batch in data:\n",
    "    job_roles_number.append(len(batch[\"job\"][\"job_roles\"]))\n",
    "\n",
    "Counter(job_roles_number)"
   ]
  },
  {
   "cell_type": "code",
   "execution_count": 13,
   "metadata": {},
   "outputs": [
    {
     "name": "stdout",
     "output_type": "stream",
     "text": [
      "['frontend-developer', 'backend-developer', 'full-stack-developer', 'c-net-developer', 'java-developer']\n",
      "['frontend-developer', 'backend-developer', 'full-stack-developer', 'c-net-developer', 'java-developer']\n",
      "['frontend-developer', 'backend-developer', 'full-stack-developer', 'c-net-developer', 'java-developer']\n",
      "['frontend-developer', 'backend-developer', 'full-stack-developer', 'c-net-developer', 'java-developer']\n",
      "['frontend-developer', 'backend-developer', 'full-stack-developer', 'c-net-developer', 'java-developer']\n",
      "['frontend-developer', 'backend-developer', 'full-stack-developer', 'c-net-developer', 'java-developer']\n",
      "['frontend-developer', 'backend-developer', 'full-stack-developer', 'c-net-developer', 'java-developer']\n",
      "['frontend-developer', 'backend-developer', 'full-stack-developer', 'c-net-developer', 'java-developer']\n",
      "['frontend-developer', 'backend-developer', 'full-stack-developer', 'c-net-developer', 'java-developer']\n",
      "['frontend-developer', 'backend-developer', 'full-stack-developer', 'c-net-developer', 'java-developer']\n",
      "['frontend-developer', 'backend-developer', 'full-stack-developer', 'c-net-developer', 'java-developer']\n",
      "['frontend-developer', 'backend-developer', 'full-stack-developer', 'c-net-developer', 'java-developer']\n",
      "['frontend-developer', 'backend-developer', 'full-stack-developer', 'c-net-developer', 'java-developer']\n",
      "['frontend-developer', 'backend-developer', 'full-stack-developer', 'c-net-developer', 'java-developer']\n",
      "['frontend-developer', 'backend-developer', 'full-stack-developer', 'c-net-developer', 'java-developer']\n",
      "['frontend-developer', 'backend-developer', 'full-stack-developer', 'c-net-developer', 'java-developer']\n",
      "['frontend-developer', 'backend-developer', 'full-stack-developer', 'c-net-developer', 'java-developer']\n",
      "['frontend-developer', 'backend-developer', 'full-stack-developer', 'c-net-developer', 'java-developer']\n",
      "['frontend-developer', 'backend-developer', 'full-stack-developer', 'c-net-developer', 'java-developer']\n",
      "['frontend-developer', 'backend-developer', 'full-stack-developer', 'c-net-developer', 'java-developer']\n",
      "['frontend-developer', 'backend-developer', 'full-stack-developer', 'c-net-developer', 'java-developer']\n",
      "['frontend-developer', 'backend-developer', 'full-stack-developer', 'c-net-developer', 'java-developer']\n"
     ]
    }
   ],
   "source": [
    "for batch in data:\n",
    "    if len(batch[\"job\"][\"job_roles\"]) >= 5:\n",
    "        print(batch[\"job\"][\"job_roles\"])"
   ]
  },
  {
   "cell_type": "markdown",
   "metadata": {},
   "source": [
    "Sometimes there are more than 1 role that can match in a job offer so we must take it into account in the **Feature Engineering** phase"
   ]
  },
  {
   "cell_type": "markdown",
   "metadata": {},
   "source": [
    "## Talent data"
   ]
  },
  {
   "cell_type": "markdown",
   "metadata": {},
   "source": [
    "### Languages overview"
   ]
  },
  {
   "cell_type": "code",
   "execution_count": 14,
   "metadata": {},
   "outputs": [],
   "source": [
    "title_languages = []\n",
    "rating_languages = []\n",
    "must_have_languages = []\n",
    "\n",
    "for batch in data:\n",
    "    job_languages = batch[\"talent\"][\"languages\"]\n",
    "    for language_dict in job_languages:\n",
    "        title_languages.append(language_dict.get(\"title\", \"no title\"))\n",
    "        rating_languages.append(language_dict.get(\"rating\", \"no rating\"))"
   ]
  },
  {
   "cell_type": "code",
   "execution_count": 15,
   "metadata": {},
   "outputs": [
    {
     "data": {
      "text/plain": [
       "Counter({'English': 1997,\n",
       "         'German': 1996,\n",
       "         'French': 416,\n",
       "         'Spanish': 313,\n",
       "         'Russian': 132,\n",
       "         'Turkish': 106,\n",
       "         'Arabic': 87,\n",
       "         'Italian': 67,\n",
       "         'Polish': 49,\n",
       "         'Portuguese': 31,\n",
       "         'Dutch': 31,\n",
       "         'Chinese': 28,\n",
       "         'Persian': 27,\n",
       "         'Japanese': 26,\n",
       "         'Croatian': 21,\n",
       "         'Swedish': 21,\n",
       "         'Hindi': 15,\n",
       "         'Greek': 10,\n",
       "         'Serbian': 10,\n",
       "         'Romanian': 8,\n",
       "         'Hungarian': 8,\n",
       "         'Albanian': 7,\n",
       "         'Korean': 6,\n",
       "         'Danish': 5,\n",
       "         'Czech': 5,\n",
       "         'Bulgarian': 4,\n",
       "         'Hebrew': 4,\n",
       "         'Tamil': 3,\n",
       "         'Norwegian': 2,\n",
       "         'Slovak': 1,\n",
       "         'Bengalese': 1,\n",
       "         'Macedonian': 1,\n",
       "         'Finnish': 1,\n",
       "         'Armenian': 1,\n",
       "         'Latvian': 1})"
      ]
     },
     "execution_count": 15,
     "metadata": {},
     "output_type": "execute_result"
    }
   ],
   "source": [
    "Counter(title_languages)"
   ]
  },
  {
   "cell_type": "code",
   "execution_count": 16,
   "metadata": {},
   "outputs": [
    {
     "data": {
      "text/plain": [
       "Counter({'C2': 2230, 'C1': 1011, 'B2': 698, 'A2': 640, 'A1': 464, 'B1': 398})"
      ]
     },
     "execution_count": 16,
     "metadata": {},
     "output_type": "execute_result"
    }
   ],
   "source": [
    "Counter(rating_languages)"
   ]
  },
  {
   "cell_type": "markdown",
   "metadata": {},
   "source": [
    "There are more values for talents than jobs but this is not going to be an issue. We can compute an 'overlap feature' but also optional languages spoken by the talent, and see if it helps in the prediction"
   ]
  },
  {
   "cell_type": "markdown",
   "metadata": {},
   "source": [
    "### Degree overview"
   ]
  },
  {
   "cell_type": "code",
   "execution_count": 17,
   "metadata": {},
   "outputs": [
    {
     "data": {
      "text/plain": [
       "Counter({'bachelor': 644,\n",
       "         'none': 453,\n",
       "         'apprenticeship': 442,\n",
       "         'master': 441,\n",
       "         'doctorate': 20})"
      ]
     },
     "execution_count": 17,
     "metadata": {},
     "output_type": "execute_result"
    }
   ],
   "source": [
    "degrees = []\n",
    "\n",
    "for batch in data:\n",
    "    degrees.append(batch[\"talent\"][\"degree\"])\n",
    "\n",
    "Counter(degrees)"
   ]
  },
  {
   "cell_type": "markdown",
   "metadata": {},
   "source": [
    "We will need to encode these degree values to be able to introduce a notion of hierarchy"
   ]
  },
  {
   "cell_type": "markdown",
   "metadata": {},
   "source": [
    "### Seniority overview"
   ]
  },
  {
   "cell_type": "code",
   "execution_count": 18,
   "metadata": {},
   "outputs": [
    {
     "data": {
      "text/plain": [
       "Counter({'midlevel': 625, 'junior': 588, 'senior': 448, 'none': 339})"
      ]
     },
     "execution_count": 18,
     "metadata": {},
     "output_type": "execute_result"
    }
   ],
   "source": [
    "seniorities = []\n",
    "\n",
    "for batch in data:\n",
    "    seniorities.append(batch[\"talent\"][\"seniority\"])\n",
    "\n",
    "Counter(seniorities)"
   ]
  },
  {
   "cell_type": "markdown",
   "metadata": {},
   "source": [
    "### Salary"
   ]
  },
  {
   "cell_type": "code",
   "execution_count": 19,
   "metadata": {},
   "outputs": [
    {
     "data": {
      "text/plain": [
       "count      2000.000000\n",
       "mean      71710.889500\n",
       "std       21867.684002\n",
       "min       25000.000000\n",
       "25%       55000.000000\n",
       "50%       70000.000000\n",
       "75%       86800.000000\n",
       "max      137080.000000\n",
       "dtype: float64"
      ]
     },
     "execution_count": 19,
     "metadata": {},
     "output_type": "execute_result"
    }
   ],
   "source": [
    "pd.Series([batch[\"talent\"][\"salary_expectation\"] for batch in data]).describe()"
   ]
  },
  {
   "cell_type": "markdown",
   "metadata": {},
   "source": [
    "There doesn't seem to be any missing value in the data."
   ]
  }
 ],
 "metadata": {
  "kernelspec": {
   "display_name": "py311-reco-engine",
   "language": "python",
   "name": "python3"
  },
  "language_info": {
   "codemirror_mode": {
    "name": "ipython",
    "version": 3
   },
   "file_extension": ".py",
   "mimetype": "text/x-python",
   "name": "python",
   "nbconvert_exporter": "python",
   "pygments_lexer": "ipython3",
   "version": "3.11.9"
  }
 },
 "nbformat": 4,
 "nbformat_minor": 2
}
